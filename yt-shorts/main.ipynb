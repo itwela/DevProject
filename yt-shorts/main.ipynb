{
 "cells": [
  {
   "cell_type": "code",
   "execution_count": 6,
   "metadata": {},
   "outputs": [],
   "source": [
    "import praw\n",
    "from gtts import gTTS\n",
    "\n",
    "\n",
    "\n",
    "reddit = praw.Reddit(\n",
    "    client_id=\"kNCg7xBuGXtMrCT9aK8SFQ\",\n",
    "    client_secret=\"bMnpr00_qZN4Ejh0MiuOqwjZCgNKew\",\n",
    "    user_agent=\"itwela_ibomu\",\n",
    ")\n",
    "\n",
    "# submission = reddit.submission(url=\"https://www.reddit.com/r/stories/comments/196l3ak/my_exboyfriend_got_me_a_bottle_of_wine_for_my/\")\n",
    "# post_text = submission.selftext\n",
    "\n",
    "# # \n",
    "\n",
    "# tts = gTTS(text=post_text, lang='en')\n",
    "# tts.save('output.mp3')\n",
    "\n",
    "# # \n"
   ]
  },
  {
   "cell_type": "code",
   "execution_count": 7,
   "metadata": {},
   "outputs": [],
   "source": [
    "from moviepy.editor import VideoFileClip, concatenate_videoclips\n",
    "import random\n",
    "\n",
    "# Function to get Reddit post text and convert it to speech\n",
    "def get_speech_from_reddit_post(url):\n",
    "    submission = reddit.submission(url=url)\n",
    "    post_text = submission.selftext\n",
    "    tts = gTTS(text=post_text, lang='en')\n",
    "    tts.save('./output.mp3')\n",
    "\n",
    "# Function to add audio to a random section of the video\n",
    "def add_audio_to_video(video_path, audio_path, output_path):\n",
    "    video_clip = VideoFileClip(video_path)\n",
    "    audio_clip = VideoFileClip(audio_path)\n",
    "\n",
    "    # Get random start time within the video duration\n",
    "    start_time = random.uniform(0, video_clip.duration - audio_clip.duration)\n",
    "\n",
    "    # Cut the video into two parts, add the audio in between, and concatenate them\n",
    "    part1 = video_clip.subclip(0, start_time)\n",
    "    part2 = video_clip.subclip(start_time, start_time + audio_clip.duration)\n",
    "    part3 = video_clip.subclip(start_time + audio_clip.duration)\n",
    "\n",
    "    video_with_audio = concatenate_videoclips([part1, part2.set_audio(audio_clip.set_duration(part2.duration)), part3])\n",
    "\n",
    "    # Write the result to a file\n",
    "    video_with_audio.write_videofile(output_path, codec='libx264', audio_codec='aac')\n"
   ]
  },
  {
   "cell_type": "code",
   "execution_count": 8,
   "metadata": {},
   "outputs": [
    {
     "ename": "PermissionError",
     "evalue": "[Errno 13] Permission denied: './output.mp3'",
     "output_type": "error",
     "traceback": [
      "\u001b[1;31m---------------------------------------------------------------------------\u001b[0m",
      "\u001b[1;31mPermissionError\u001b[0m                           Traceback (most recent call last)",
      "Cell \u001b[1;32mIn[8], line 7\u001b[0m\n\u001b[0;32m      4\u001b[0m output_video_path \u001b[38;5;241m=\u001b[39m \u001b[38;5;124m\"\u001b[39m\u001b[38;5;124moutput_video.mp4\u001b[39m\u001b[38;5;124m\"\u001b[39m\n\u001b[0;32m      6\u001b[0m \u001b[38;5;66;03m# Fetch Reddit post and convert text to speech\u001b[39;00m\n\u001b[1;32m----> 7\u001b[0m \u001b[43mget_speech_from_reddit_post\u001b[49m\u001b[43m(\u001b[49m\u001b[43mreddit_post_url\u001b[49m\u001b[43m)\u001b[49m\n\u001b[0;32m      9\u001b[0m \u001b[38;5;66;03m# Add audio to a random section of the Minecraft video\u001b[39;00m\n\u001b[0;32m     10\u001b[0m add_audio_to_video(minecraft_video_path, \u001b[38;5;124m\"\u001b[39m\u001b[38;5;124moutput.mp3\u001b[39m\u001b[38;5;124m\"\u001b[39m, output_video_path)\n",
      "Cell \u001b[1;32mIn[7], line 9\u001b[0m, in \u001b[0;36mget_speech_from_reddit_post\u001b[1;34m(url)\u001b[0m\n\u001b[0;32m      7\u001b[0m post_text \u001b[38;5;241m=\u001b[39m submission\u001b[38;5;241m.\u001b[39mselftext\n\u001b[0;32m      8\u001b[0m tts \u001b[38;5;241m=\u001b[39m gTTS(text\u001b[38;5;241m=\u001b[39mpost_text, lang\u001b[38;5;241m=\u001b[39m\u001b[38;5;124m'\u001b[39m\u001b[38;5;124men\u001b[39m\u001b[38;5;124m'\u001b[39m)\n\u001b[1;32m----> 9\u001b[0m \u001b[43mtts\u001b[49m\u001b[38;5;241;43m.\u001b[39;49m\u001b[43msave\u001b[49m\u001b[43m(\u001b[49m\u001b[38;5;124;43m'\u001b[39;49m\u001b[38;5;124;43m./output.mp3\u001b[39;49m\u001b[38;5;124;43m'\u001b[39;49m\u001b[43m)\u001b[49m\n",
      "File \u001b[1;32mc:\\Users\\User\\Documents\\GitHub\\DevProject\\yt-shorts\\.conda\\Lib\\site-packages\\gtts\\tts.py:334\u001b[0m, in \u001b[0;36mgTTS.save\u001b[1;34m(self, savefile)\u001b[0m\n\u001b[0;32m    324\u001b[0m \u001b[38;5;28;01mdef\u001b[39;00m \u001b[38;5;21msave\u001b[39m(\u001b[38;5;28mself\u001b[39m, savefile):\n\u001b[0;32m    325\u001b[0m \u001b[38;5;250m    \u001b[39m\u001b[38;5;124;03m\"\"\"Do the TTS API request and write result to file.\u001b[39;00m\n\u001b[0;32m    326\u001b[0m \n\u001b[0;32m    327\u001b[0m \u001b[38;5;124;03m    Args:\u001b[39;00m\n\u001b[1;32m   (...)\u001b[0m\n\u001b[0;32m    332\u001b[0m \n\u001b[0;32m    333\u001b[0m \u001b[38;5;124;03m    \"\"\"\u001b[39;00m\n\u001b[1;32m--> 334\u001b[0m     \u001b[38;5;28;01mwith\u001b[39;00m \u001b[38;5;28;43mopen\u001b[39;49m\u001b[43m(\u001b[49m\u001b[38;5;28;43mstr\u001b[39;49m\u001b[43m(\u001b[49m\u001b[43msavefile\u001b[49m\u001b[43m)\u001b[49m\u001b[43m,\u001b[49m\u001b[43m \u001b[49m\u001b[38;5;124;43m\"\u001b[39;49m\u001b[38;5;124;43mwb\u001b[39;49m\u001b[38;5;124;43m\"\u001b[39;49m\u001b[43m)\u001b[49m \u001b[38;5;28;01mas\u001b[39;00m f:\n\u001b[0;32m    335\u001b[0m         \u001b[38;5;28mself\u001b[39m\u001b[38;5;241m.\u001b[39mwrite_to_fp(f)\n\u001b[0;32m    336\u001b[0m         log\u001b[38;5;241m.\u001b[39mdebug(\u001b[38;5;124m\"\u001b[39m\u001b[38;5;124mSaved to \u001b[39m\u001b[38;5;132;01m%s\u001b[39;00m\u001b[38;5;124m\"\u001b[39m, savefile)\n",
      "\u001b[1;31mPermissionError\u001b[0m: [Errno 13] Permission denied: './output.mp3'"
     ]
    }
   ],
   "source": [
    "# Example usage\n",
    "reddit_post_url = \"https://www.reddit.com/r/stories/comments/196l3ak/my_exboyfriend_got_me_a_bottle_of_wine_for_my/\"\n",
    "minecraft_video_path = \"minc.mp4\"\n",
    "output_video_path = \"output_video.mp4\"\n",
    "\n",
    "# Fetch Reddit post and convert text to speech\n",
    "get_speech_from_reddit_post(reddit_post_url)\n",
    "\n",
    "# Add audio to a random section of the Minecraft video\n",
    "add_audio_to_video(minecraft_video_path, \"output.mp3\", output_video_path)"
   ]
  },
  {
   "cell_type": "code",
   "execution_count": null,
   "metadata": {},
   "outputs": [],
   "source": [
    "\n",
    "# import os\n",
    "# import pygame\n",
    "\n",
    "# pygame.mixer.init()\n",
    "# pygame.mixer.music.load(\"output.mp3\")\n",
    "# pygame.mixer.music.play()\n",
    "\n"
   ]
  },
  {
   "cell_type": "code",
   "execution_count": null,
   "metadata": {},
   "outputs": [],
   "source": [
    "\n",
    "\n"
   ]
  }
 ],
 "metadata": {
  "kernelspec": {
   "display_name": "Python 3",
   "language": "python",
   "name": "python3"
  },
  "language_info": {
   "codemirror_mode": {
    "name": "ipython",
    "version": 3
   },
   "file_extension": ".py",
   "mimetype": "text/x-python",
   "name": "python",
   "nbconvert_exporter": "python",
   "pygments_lexer": "ipython3",
   "version": "3.11.7"
  }
 },
 "nbformat": 4,
 "nbformat_minor": 2
}
