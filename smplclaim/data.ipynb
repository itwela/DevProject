{
 "cells": [
  {
   "cell_type": "code",
   "execution_count": 2,
   "metadata": {},
   "outputs": [],
   "source": [
    "import openai\n",
    "import pandas as pd\n"
   ]
  },
  {
   "cell_type": "code",
   "execution_count": 3,
   "metadata": {},
   "outputs": [],
   "source": [
    "def chat_with_gpt3_5(prompt):\n",
    "    openai.api_key = api_key\n",
    "\n",
    "    gpt4response = openai.ChatCompletion.create(\n",
    "        model=\"gpt-3.5-turbo\",\n",
    "        temperature=0,\n",
    "        messages=[\n",
    "            {\n",
    "        \"role\": \"system\",\n",
    "        \"content\": \"You are my personal assistant. Your name is MealMaster. You are great at explaining and helping me and love what you do.\"\n",
    "            },\n",
    "            {\n",
    "        \"role\": \"user\",\n",
    "        \"content\": prompt\n",
    "            }\n",
    "            ],  \n",
    "        max_tokens=1000  # Adjust the max_tokens as needed\n",
    "    )\n",
    "            \n",
    "\n",
    "    return gpt4response['choices'][0]['message']['content']\n",
    "\n",
    "def chat_with_gpt3(prompt):\n",
    "    openai.api_key = api_key\n",
    "    response = openai.Completion.create(\n",
    "        engine=\"text-babbage-001\",\n",
    "        prompt=prompt,\n",
    "        max_tokens=1000,\n",
    "        n=1,\n",
    "        stop=None\n",
    "    )\n",
    "\n",
    "    return response.choices[0].text.strip()\n",
    "\n",
    "#  ------------------------------------------------------------"
   ]
  },
  {
   "cell_type": "code",
   "execution_count": 4,
   "metadata": {},
   "outputs": [
    {
     "name": "stdout",
     "output_type": "stream",
     "text": [
      "     Item #  Room  Brand or Manufacturer  Model#  Item Description  \\\n",
      "0         1   NaN                    NaN     NaN               NaN   \n",
      "1         2   NaN                    NaN     NaN               NaN   \n",
      "2         3   NaN                    NaN     NaN               NaN   \n",
      "3         4   NaN                    NaN     NaN               NaN   \n",
      "4         5   NaN                    NaN     NaN               NaN   \n",
      "..      ...   ...                    ...     ...               ...   \n",
      "223     224   NaN                    NaN     NaN               NaN   \n",
      "224     225   NaN                    NaN     NaN               NaN   \n",
      "225     226   NaN                    NaN     NaN               NaN   \n",
      "226     227   NaN                    NaN     NaN               NaN   \n",
      "227     228   NaN                    NaN     NaN               NaN   \n",
      "\n",
      "     Original Vendor  Quantity Lost  Item Age (Years)  Item Age (Months)  \\\n",
      "0                NaN            NaN               NaN                NaN   \n",
      "1                NaN            NaN               NaN                NaN   \n",
      "2                NaN            NaN               NaN                NaN   \n",
      "3                NaN            NaN               NaN                NaN   \n",
      "4                NaN            NaN               NaN                NaN   \n",
      "..               ...            ...               ...                ...   \n",
      "223              NaN            NaN               NaN                NaN   \n",
      "224              NaN            NaN               NaN                NaN   \n",
      "225              NaN            NaN               NaN                NaN   \n",
      "226              NaN            NaN               NaN                NaN   \n",
      "227              NaN            NaN               NaN                NaN   \n",
      "\n",
      "     Condition  Cost to Replace Pre-Tax (each)  Total Cost  \n",
      "0          NaN                             NaN         NaN  \n",
      "1          NaN                             NaN         NaN  \n",
      "2          NaN                             NaN         NaN  \n",
      "3          NaN                             NaN         NaN  \n",
      "4          NaN                             NaN         NaN  \n",
      "..         ...                             ...         ...  \n",
      "223        NaN                             NaN         NaN  \n",
      "224        NaN                             NaN         NaN  \n",
      "225        NaN                             NaN         NaN  \n",
      "226        NaN                             NaN         NaN  \n",
      "227        NaN                             NaN         NaN  \n",
      "\n",
      "[228 rows x 12 columns]\n"
     ]
    }
   ],
   "source": [
    "file_dir = r'C:\\Users\\Judy Sanders\\Desktop\\code\\DevProject\\smplclaim'\n",
    "file_path = 'baba-2.csv'\n",
    "filepath = f'{file_dir}/{file_path}'\n",
    "df = pd.read_csv(filepath, encoding='ISO-8859-1')\n",
    "print(df)"
   ]
  },
  {
   "cell_type": "code",
   "execution_count": 5,
   "metadata": {},
   "outputs": [],
   "source": [
    "def add_data_to_df(df, data_dict):\n",
    "    new_data = pd.DataFrame(data_dict)\n",
    "    updated_df = pd.concat([df, new_data])\n",
    "    return updated_df"
   ]
  },
  {
   "cell_type": "code",
   "execution_count": 6,
   "metadata": {},
   "outputs": [
    {
     "name": "stdout",
     "output_type": "stream",
     "text": [
      "     Item #     Room  Brand or Manufacturer  Model#  Item Description  \\\n",
      "0         1      NaN                    NaN     NaN               NaN   \n",
      "1         2      NaN                    NaN     NaN               NaN   \n",
      "2         3      NaN                    NaN     NaN               NaN   \n",
      "3         4      NaN                    NaN     NaN               NaN   \n",
      "4         5      NaN                    NaN     NaN               NaN   \n",
      "..      ...      ...                    ...     ...               ...   \n",
      "224     225      NaN                    NaN     NaN               NaN   \n",
      "225     226      NaN                    NaN     NaN               NaN   \n",
      "226     227      NaN                    NaN     NaN               NaN   \n",
      "227     228      NaN                    NaN     NaN               NaN   \n",
      "0         1  bedroom                    NaN     NaN               NaN   \n",
      "\n",
      "     Original Vendor  Quantity Lost  Item Age (Years)  Item Age (Months)  \\\n",
      "0                NaN            NaN               NaN                NaN   \n",
      "1                NaN            NaN               NaN                NaN   \n",
      "2                NaN            NaN               NaN                NaN   \n",
      "3                NaN            NaN               NaN                NaN   \n",
      "4                NaN            NaN               NaN                NaN   \n",
      "..               ...            ...               ...                ...   \n",
      "224              NaN            NaN               NaN                NaN   \n",
      "225              NaN            NaN               NaN                NaN   \n",
      "226              NaN            NaN               NaN                NaN   \n",
      "227              NaN            NaN               NaN                NaN   \n",
      "0                NaN            NaN               NaN                NaN   \n",
      "\n",
      "     Condition  Cost to Replace Pre-Tax (each)  Total Cost  \n",
      "0          NaN                             NaN         NaN  \n",
      "1          NaN                             NaN         NaN  \n",
      "2          NaN                             NaN         NaN  \n",
      "3          NaN                             NaN         NaN  \n",
      "4          NaN                             NaN         NaN  \n",
      "..         ...                             ...         ...  \n",
      "224        NaN                             NaN         NaN  \n",
      "225        NaN                             NaN         NaN  \n",
      "226        NaN                             NaN         NaN  \n",
      "227        NaN                             NaN         NaN  \n",
      "0          NaN                             NaN         NaN  \n",
      "\n",
      "[229 rows x 12 columns]\n"
     ]
    }
   ],
   "source": [
    "new_data = {\n",
    "    'Item #': [int(1)],\n",
    "    'Room': ['bedroom'],\n",
    "    # Add more columns as needed\n",
    "}\n",
    "\n",
    "# Add the new data to the DataFrame\n",
    "df = add_data_to_df(df, new_data)\n",
    "print(df)"
   ]
  },
  {
   "cell_type": "code",
   "execution_count": 7,
   "metadata": {},
   "outputs": [
    {
     "name": "stdout",
     "output_type": "stream",
     "text": [
      "     Item #     Room  Brand or Manufacturer  Model#  Item Description  \\\n",
      "0         1      NaN                    NaN     NaN               NaN   \n",
      "0         1  bedroom                    NaN     NaN               NaN   \n",
      "1         2      NaN                    NaN     NaN               NaN   \n",
      "2         3      NaN                    NaN     NaN               NaN   \n",
      "3         4      NaN                    NaN     NaN               NaN   \n",
      "..      ...      ...                    ...     ...               ...   \n",
      "223     224      NaN                    NaN     NaN               NaN   \n",
      "224     225      NaN                    NaN     NaN               NaN   \n",
      "225     226      NaN                    NaN     NaN               NaN   \n",
      "226     227      NaN                    NaN     NaN               NaN   \n",
      "227     228      NaN                    NaN     NaN               NaN   \n",
      "\n",
      "     Original Vendor  Quantity Lost  Item Age (Years)  Item Age (Months)  \\\n",
      "0                NaN            NaN               NaN                NaN   \n",
      "0                NaN            NaN               NaN                NaN   \n",
      "1                NaN            NaN               NaN                NaN   \n",
      "2                NaN            NaN               NaN                NaN   \n",
      "3                NaN            NaN               NaN                NaN   \n",
      "..               ...            ...               ...                ...   \n",
      "223              NaN            NaN               NaN                NaN   \n",
      "224              NaN            NaN               NaN                NaN   \n",
      "225              NaN            NaN               NaN                NaN   \n",
      "226              NaN            NaN               NaN                NaN   \n",
      "227              NaN            NaN               NaN                NaN   \n",
      "\n",
      "     Condition  Cost to Replace Pre-Tax (each)  Total Cost  \n",
      "0          NaN                             NaN         NaN  \n",
      "0          NaN                             NaN         NaN  \n",
      "1          NaN                             NaN         NaN  \n",
      "2          NaN                             NaN         NaN  \n",
      "3          NaN                             NaN         NaN  \n",
      "..         ...                             ...         ...  \n",
      "223        NaN                             NaN         NaN  \n",
      "224        NaN                             NaN         NaN  \n",
      "225        NaN                             NaN         NaN  \n",
      "226        NaN                             NaN         NaN  \n",
      "227        NaN                             NaN         NaN  \n",
      "\n",
      "[229 rows x 12 columns]\n"
     ]
    }
   ],
   "source": [
    "df = df.sort_values('Item #')\n",
    "print(df)"
   ]
  }
 ],
 "metadata": {
  "kernelspec": {
   "display_name": "base",
   "language": "python",
   "name": "python3"
  },
  "language_info": {
   "codemirror_mode": {
    "name": "ipython",
    "version": 3
   },
   "file_extension": ".py",
   "mimetype": "text/x-python",
   "name": "python",
   "nbconvert_exporter": "python",
   "pygments_lexer": "ipython3",
   "version": "3.11.4"
  },
  "orig_nbformat": 4
 },
 "nbformat": 4,
 "nbformat_minor": 2
}
