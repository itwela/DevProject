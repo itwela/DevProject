{
 "cells": [
  {
   "cell_type": "code",
   "execution_count": 1,
   "metadata": {},
   "outputs": [],
   "source": [
    "import streamlit as st\n",
    "import os\n",
    "import openai\n",
    "import pandas as pd\n",
    "import time\n",
    "from PIL import Image \n",
    "from streamlit_extras.stoggle import stoggle\n",
    "from streamlit_extras.streaming_write import write\n",
    "from dotenv import load_dotenv\n"
   ]
  },
  {
   "cell_type": "code",
   "execution_count": 2,
   "metadata": {},
   "outputs": [],
   "source": [
    "file_dir = r'C:\\Users\\Judy Sanders\\Desktop\\code\\DevProject\\smplclaim'\n",
    "file_path = 'baba-test.csv'\n",
    "\n",
    "filepath = f'{file_dir}/{file_path}'\n"
   ]
  },
  {
   "cell_type": "code",
   "execution_count": 3,
   "metadata": {},
   "outputs": [
    {
     "name": "stdout",
     "output_type": "stream",
     "text": [
      "<bound method NDFrame.head of Empty DataFrame\n",
      "Columns: [Item #, Room, Brand or Manufacturer, Model#, Item Description, Original Vendor, Quantity Lost, Item Age (Years), Item Age (Months), Condition, Cost to Replace Pre-Tax (each), Total Cost]\n",
      "Index: []>\n"
     ]
    }
   ],
   "source": [
    "df = pd.read_csv(filepath)\n",
    "print(df.head)"
   ]
  },
  {
   "cell_type": "code",
   "execution_count": 4,
   "metadata": {},
   "outputs": [],
   "source": [
    "def add_data_to_df(df, data_dict):\n",
    "    new_data = pd.DataFrame(data_dict)\n",
    "    updated_df = pd.concat([df, new_data])\n",
    "    return updated_df"
   ]
  },
  {
   "cell_type": "code",
   "execution_count": 5,
   "metadata": {},
   "outputs": [
    {
     "name": "stdout",
     "output_type": "stream",
     "text": [
      "  Item #     Room Brand or Manufacturer Model# Item Description  \\\n",
      "0      1  bedroom                   NaN    NaN              NaN   \n",
      "\n",
      "  Original Vendor Quantity Lost Item Age (Years) Item Age (Months) Condition  \\\n",
      "0             NaN           NaN              NaN               NaN       NaN   \n",
      "\n",
      "  Cost to Replace Pre-Tax (each) Total Cost  \n",
      "0                            NaN        NaN  \n"
     ]
    }
   ],
   "source": [
    "new_data = {\n",
    "    'Item #': [int(1)],\n",
    "    'Room': ['bedroom'],\n",
    "    # Add more columns as needed\n",
    "}\n",
    "\n",
    "# Add the new data to the DataFrame\n",
    "df = add_data_to_df(df, new_data)\n",
    "print(df)"
   ]
  },
  {
   "cell_type": "code",
   "execution_count": 6,
   "metadata": {},
   "outputs": [],
   "source": [
    "# df_new_row = pd.DataFrame({ 'Room': ['bedroom'], 'Brand or Manufacturer': ['supreme'], 'Item Age (Years)': [int(1)] })\n",
    "# df = pd.concat([df_new_row, df_new_row, df], ignore_index=True)\n"
   ]
  }
 ],
 "metadata": {
  "kernelspec": {
   "display_name": "base",
   "language": "python",
   "name": "python3"
  },
  "language_info": {
   "codemirror_mode": {
    "name": "ipython",
    "version": 3
   },
   "file_extension": ".py",
   "mimetype": "text/x-python",
   "name": "python",
   "nbconvert_exporter": "python",
   "pygments_lexer": "ipython3",
   "version": "3.11.4"
  },
  "orig_nbformat": 4
 },
 "nbformat": 4,
 "nbformat_minor": 2
}
