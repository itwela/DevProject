{
 "cells": [
  {
   "cell_type": "code",
   "execution_count": 1,
   "id": "4cd06263",
   "metadata": {},
   "outputs": [],
   "source": [
    "import pandas as pd\n",
    "import string"
   ]
  },
  {
   "cell_type": "code",
   "execution_count": 2,
   "id": "b494242f",
   "metadata": {},
   "outputs": [],
   "source": [
    "def read_house():\n",
    "    # get open og txt file for reading text file\n",
    "    txt_file = open(\"2023FD.txt\", \"r\")\n",
    "\n",
    "    # get column titles\n",
    "    column_names = txt_file.readline().strip().split(\"\\t\")\n",
    "    politicians = list()\n",
    "    lines = txt_file.readlines()\n",
    "\n",
    "    for line in lines:\n",
    "        politician = list()\n",
    "    \n",
    "        if line[0].isspace():\n",
    "            politician.append(\"-\")\n",
    "        politician.extend(line.strip().split(\"\\t\"))\n",
    "        # print(politician)\n",
    "\n",
    "\n",
    "        politicians.append(politician)\n",
    "    txt_file.close()\n",
    "\n",
    "    return pd.DataFrame(politicians, columns=column_names)\n",
    "    "
   ]
  },
  {
   "cell_type": "code",
   "execution_count": 3,
   "id": "89ef1a43",
   "metadata": {},
   "outputs": [],
   "source": [
    "\"\"\"\n",
    "Filing Types:\n",
    "P - PTR Original\n",
    "B - Blind Trust\n",
    "X - Extension\n",
    "T - Termination\n",
    "C - Congressional Candidate (Candidate Report)\n",
    "W - Withdrawl\n",
    "D - Disclosure Requirement\n",
    "\"\"\"\n",
    "\n",
    "df = read_house()\n",
    "df[\"FilingDate\"] = pd.to_datetime(df[\"FilingDate\"])"
   ]
  },
  {
   "cell_type": "code",
   "execution_count": 4,
   "id": "a73c74ca",
   "metadata": {
    "tags": []
   },
   "outputs": [
    {
     "output_type": "stream",
     "name": "stdout",
     "text": "Prefix      Last            First Suffix FilingType StateDst  Year  \\\n164   Hon.   Dingell           Debbie                 P     MI12  2023   \n18    Hon.      Axne            Cindy                 P     IA03  2023   \n144   Hon.   DelBene         Suzan K.                 P     WA01  2023   \n615   Hon.  Sessions             Pete                 P     TX17  2023   \n198   Hon.      Foxx         Virginia                 P     NC05  2023   \n..     ...       ...              ...    ...        ...      ...   ...   \n447   Hon.   Manning            Kathy                 P     NC06  2023   \n189      -    Eyring  Henry Christian                 W           2023   \n317      -    Howell        Tate Arza                 W     UT03  2023   \n336    Mr.   Johnson              Ron                 W     PA64  2023   \n686      -     Wolfe         Geoffrey                 W     CA32  2023   \n\n    FilingDate     DocID  \n164 2023-01-01  20022184  \n18  2023-01-02  20022202  \n144 2023-01-02  20022183  \n615 2023-01-02  20022203  \n198 2023-01-03  20022211  \n..         ...       ...  \n447 2023-08-02  20023313  \n189        NaT   8219871  \n317        NaT   8219820  \n336        NaT   8219821  \n686        NaT   8219596  \n\n[698 rows x 9 columns]\n"
    }
   ],
   "source": [
    "\"\"\"\n",
    "if you want to look at the pdf filing ->\n",
    "for financials, Blind Trust, Extension, Termination, Congressional Candidates: \n",
    "go to https://disclosures-clerk.house.gov/public_disc/financial-pdfs/2023/[DocID].pdf\n",
    "\n",
    "for PTR Reports: go to https://disclosures-clerk.house.gov/public_disc/ptr-pdfs/2023/[DocID].pdf\n",
    "\"\"\"\n",
    "# lastName = \"Lynch\"\n",
    "# politician_filings = df.loc[df[\"Last\"] == lastName]\n",
    "sortedDates = df.sort_values(by=[\"FilingDate\"])\n",
    "last_person_to_file = sortedDates.iloc[-1]\n",
    "\n",
    "print(sortedDates)\n",
    "# print(politician_filings)\n"
   ]
  },
  {
   "cell_type": "code",
   "execution_count": 7,
   "id": "82fd280e",
   "metadata": {
    "tags": []
   },
   "outputs": [
    {
     "output_type": "stream",
     "name": "stdout",
     "text": "Prefix      Last            First Suffix FilingType StateDst  Year  \\\n418   Hon.      Long            Billy                 T     MO07  2023   \n61    Hon.      Budd      Theodore P.                 E     NC13  2023   \n28    Hon.      Barr   Garland \"Andy\"                 G     KY06  2023   \n57    Hon.     Brown          Anthony                 T     MD04  2023   \n142   Hon.   DeFazio         Peter A.                 T     OR04  2023   \n..     ...       ...              ...    ...        ...      ...   ...   \n546   Hon.  Phillips             Dean                 B     MN03  2023   \n189      -    Eyring  Henry Christian                 W           2023   \n317      -    Howell        Tate Arza                 W     UT03  2023   \n336    Mr.   Johnson              Ron                 W     PA64  2023   \n686      -     Wolfe         Geoffrey                 W     CA32  2023   \n\n    FilingDate     DocID  \n418 2023-01-05   8219325  \n61  2023-01-06   8219324  \n28  2023-01-12   8219331  \n57  2023-01-14  10050771  \n142 2023-01-14  10050775  \n..         ...       ...  \n546 2023-07-28   8219868  \n189        NaT   8219871  \n317        NaT   8219820  \n336        NaT   8219821  \n686        NaT   8219596  \n\n[88 rows x 9 columns]\n"
    }
   ],
   "source": [
    "# remove all congressional candidates from dataframe\n",
    "filtered = sortedDates[sortedDates.FilingType != 'C']\n",
    "filtered = filtered[filtered.FilingType != 'P']\n",
    "filtered = filtered[filtered.FilingType != 'X']\n",
    "filtered = filtered[filtered.FilingType != 'D']\n",
    "print(filtered)\n",
    "\n",
    "# TODO see if you can get volume data"
   ]
  },
  {
   "cell_type": "code",
   "execution_count": null,
   "metadata": {},
   "outputs": [],
   "source": []
  },
  {
   "cell_type": "code",
   "execution_count": null,
   "metadata": {},
   "outputs": [],
   "source": []
  }
 ],
 "metadata": {
  "kernelspec": {
   "display_name": "Python 3",
   "language": "python",
   "name": "python3"
  },
  "language_info": {
   "codemirror_mode": {
    "name": "ipython",
    "version": 3
   },
   "file_extension": ".py",
   "mimetype": "text/x-python",
   "name": "python",
   "nbconvert_exporter": "python",
   "pygments_lexer": "ipython3",
   "version": "3.9.7-final"
  }
 },
 "nbformat": 4,
 "nbformat_minor": 5
}